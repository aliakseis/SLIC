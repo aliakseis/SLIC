{
 "cells": [
  {
   "cell_type": "code",
   "execution_count": 1,
   "metadata": {},
   "outputs": [],
   "source": [
    "import logging\n",
    "import sys\n",
    "import os\n",
    "\n",
    "import zipfile\n",
    "\n",
    "import importlib\n",
    "\n",
    "from six.moves import urllib\n",
    "from shutil import copy2\n",
    "\n",
    "import matplotlib.pyplot as plt\n",
    "\n",
    "import cv2\n",
    "\n",
    "import numpy as np\n",
    "\n",
    "from skimage.segmentation import slic\n",
    "from skimage.segmentation import mark_boundaries\n",
    "from skimage.util import img_as_float"
   ]
  },
  {
   "cell_type": "code",
   "execution_count": 8,
   "metadata": {},
   "outputs": [],
   "source": [
    "from __future__ import print_function\n",
    "\n",
    "import keras\n",
    "from keras.datasets import mnist\n",
    "from keras.models import Sequential\n",
    "from keras.layers import Dense, Dropout, Flatten\n",
    "from keras.layers import Conv2D, MaxPooling2D\n",
    "from keras import backend as K\n",
    "\n",
    "from keras.preprocessing.image import ImageDataGenerator"
   ]
  },
  {
   "cell_type": "code",
   "execution_count": 19,
   "metadata": {},
   "outputs": [],
   "source": [
    "batch_size = 128\n",
    "num_classes = 2\n",
    "epochs = 10\n",
    "\n",
    "# input image dimensions\n",
    "img_rows, img_cols = 48, 48"
   ]
  },
  {
   "cell_type": "code",
   "execution_count": 4,
   "metadata": {},
   "outputs": [
    {
     "name": "stdout",
     "output_type": "stream",
     "text": [
      "INFO:root:Extracting kitti_road data.\n"
     ]
    }
   ],
   "source": [
    "def download(url, dest_directory):\n",
    "    filename = url.split('/')[-1]\n",
    "    filepath = os.path.join(dest_directory, filename)\n",
    "\n",
    "    logging.info(\"Download URL: {}\".format(url))\n",
    "    logging.info(\"Download DIR: {}\".format(dest_directory))\n",
    "\n",
    "    def _progress(count, block_size, total_size):\n",
    "                prog = float(count * block_size) / float(total_size) * 100.0\n",
    "                sys.stdout.write('\\r>> Downloading %s %.1f%%' %\n",
    "                                 (filename, prog))\n",
    "                sys.stdout.flush()\n",
    "\n",
    "    filepath, _ = urllib.request.urlretrieve(url, filepath,\n",
    "                                             reporthook=_progress)\n",
    "    print()\n",
    "    return filepath\n",
    "\n",
    "\n",
    "importlib.reload(logging)\n",
    "logging.basicConfig(stream=sys.stdout, level=logging.INFO)\n",
    "\n",
    "# Download KITTI DATA\n",
    "\n",
    "kitti_data_url = 'https://s3.eu-central-1.amazonaws.com/avg-kitti/data_road.zip'\n",
    "\n",
    "data_dir = './data'\n",
    "\n",
    "data_road_zip = './data/data_road.zip'\n",
    "\n",
    "\n",
    "if not os.path.exists(data_road_zip):\n",
    "    if kitti_data_url == '':\n",
    "        logging.error(\"Data URL for Kitti Data not provided.\")\n",
    "        url = \"http://www.cvlibs.net/download.php?file=data_road.zip\"\n",
    "        logging.error(\"Please visit: {}\".format(url))\n",
    "        logging.error(\"and request Kitti Download link.\")\n",
    "        exit(1)\n",
    "    if not kitti_data_url[-19:] == 'kitti/data_road.zip':\n",
    "        logging.error(\"Wrong url.\")\n",
    "        url = \"http://www.cvlibs.net/download.php?file=data_road.zip\"\n",
    "        logging.error(\"Please visit: {}\".format(url))\n",
    "        logging.error(\"and request Kitti Download link.\")\n",
    "        exit(1)\n",
    "    else:\n",
    "        logging.info(\"Downloading Kitti Road Data.\")\n",
    "        download(kitti_data_url, data_dir)\n",
    "\n",
    "# Extract and prepare KITTI DATA\n",
    "logging.info(\"Extracting kitti_road data.\")\n",
    "zipfile.ZipFile(data_road_zip, 'r').extractall(data_dir)\n",
    "kitti_road_dir = os.path.join(data_dir, 'data_road/')\n",
    "\n",
    "\n",
    "train_txt = \"data/train3.txt\"\n",
    "val_txt = \"data/val3.txt\"\n",
    "testing_txt = \"data/testing.txt\"\n",
    "\n",
    "sys.stdout.flush()"
   ]
  },
  {
   "cell_type": "code",
   "execution_count": 5,
   "metadata": {
    "scrolled": true
   },
   "outputs": [],
   "source": [
    "def getData(txt):\n",
    "    all_x = []\n",
    "    all_y = []\n",
    "\n",
    "    with open(txt, 'r') as f:\n",
    "        for line in f:\n",
    "            sys.stdout.write('\\r>> Processing %s          ' % (line.rstrip()))\n",
    "            sys.stdout.flush()\n",
    "            \n",
    "            names = line.split()\n",
    "\n",
    "            # load the image and apply SLIC and extract (approximately)\n",
    "            image = cv2.imread(os.path.join(kitti_road_dir, names[0]))\n",
    "            segments = slic(img_as_float(image), n_segments = 200, sigma = 5)\n",
    "\n",
    "            image2 = cv2.imread(os.path.join(kitti_road_dir, names[1]))\n",
    "            magenta = np.array([255, 0, 255], dtype=np.uint8)\n",
    "\n",
    "            mask2 = np.all(image2 == magenta, axis = -1)\n",
    "\n",
    "            # loop over the unique segment values\n",
    "            for (i, segVal) in enumerate(np.unique(segments)):\n",
    "                # construct a mask for the segment\n",
    "                mask = np.zeros(image.shape[:2], dtype = \"uint8\")\n",
    "                mask[segments == segVal] = 255\n",
    "\n",
    "                m = cv2.moments(mask, True);\n",
    "\n",
    "                x = m[\"m10\"]/m[\"m00\"]\n",
    "                y = m[\"m01\"]/m[\"m00\"]\n",
    "\n",
    "                intersection = np.logical_and(mask, mask2)\n",
    "\n",
    "                img = cv2.bitwise_and(image, image, mask = mask)\n",
    "\n",
    "                #crop\n",
    "                img = img[int(y - img_rows/2) : int(y + img_rows/2), \n",
    "                          int(x - img_cols/2) : int(x + img_cols/2)]\n",
    "\n",
    "                old_size = img.shape[:2]\n",
    "                delta_w = img_cols - old_size[1]#img.cols\n",
    "                delta_h = img_rows - old_size[0]#img.rows\n",
    "                top, bottom = delta_h//2, delta_h-(delta_h//2)\n",
    "                left, right = delta_w//2, delta_w-(delta_w//2)\n",
    "\n",
    "                img = cv2.copyMakeBorder(img, top, bottom, left, right, cv2.BORDER_CONSTANT, value=0)\n",
    "\n",
    "\n",
    "                value = int(np.sum(intersection) > m[\"m00\"] / 2)\n",
    "\n",
    "                all_x.append([img])\n",
    "                all_y.append([value])\n",
    "\n",
    "                #flipHorizontal = cv2.flip(img, 1)\n",
    "                #all_x.append([flipHorizontal])\n",
    "                #all_y.append([value])\n",
    "\n",
    "    all_x = np.concatenate(all_x)\n",
    "    all_y = np.concatenate(all_y)\n",
    "\n",
    "    return all_x, all_y"
   ]
  },
  {
   "cell_type": "code",
   "execution_count": 10,
   "metadata": {},
   "outputs": [
    {
     "name": "stdout",
     "output_type": "stream",
     "text": [
      ">> Processing training/image_2/uu_000097.png training/gt_image_2/uu_road_000097.png            "
     ]
    }
   ],
   "source": [
    "# the data, split between train and test sets\n",
    "(x_train, y_train) = getData(train_txt)\n",
    "(x_test, y_test) = getData(val_txt)"
   ]
  },
  {
   "cell_type": "code",
   "execution_count": 11,
   "metadata": {},
   "outputs": [
    {
     "name": "stdout",
     "output_type": "stream",
     "text": [
      "x_train shape: (43580, 48, 48, 3)\n",
      "y_train shape: (43580,)\n",
      "43580 train samples\n",
      "8668 test samples\n"
     ]
    }
   ],
   "source": [
    "if K.image_data_format() == 'channels_first':\n",
    "    x_train = x_train.reshape(x_train.shape[0], 3, img_rows, img_cols)\n",
    "    x_test = x_test.reshape(x_test.shape[0], 3, img_rows, img_cols)\n",
    "    input_shape = (3, img_rows, img_cols)\n",
    "else:\n",
    "    x_train = x_train.reshape(x_train.shape[0], img_rows, img_cols, 3)\n",
    "    x_test = x_test.reshape(x_test.shape[0], img_rows, img_cols, 3)\n",
    "    input_shape = (img_rows, img_cols, 3)\n",
    "\n",
    "x_train = x_train.astype('float32')\n",
    "x_test = x_test.astype('float32')\n",
    "x_train /= 255\n",
    "x_test /= 255\n",
    "print('x_train shape:', x_train.shape)\n",
    "print('y_train shape:', y_train.shape)\n",
    "print(x_train.shape[0], 'train samples')\n",
    "print(x_test.shape[0], 'test samples')\n",
    "\n",
    "# convert class vectors to binary class matrices\n",
    "y_train = keras.utils.to_categorical(y_train, num_classes)\n",
    "y_test = keras.utils.to_categorical(y_test, num_classes)"
   ]
  },
  {
   "cell_type": "code",
   "execution_count": 25,
   "metadata": {},
   "outputs": [
    {
     "name": "stdout",
     "output_type": "stream",
     "text": [
      "Epoch 1/10\n",
      "4358/4358 [==============================] - 312s 72ms/step - loss: 0.1715 - accuracy: 0.9264 - val_loss: 0.2116 - val_accuracy: 0.9290\n",
      "Epoch 2/10\n",
      "4358/4358 [==============================] - 312s 72ms/step - loss: 0.1399 - accuracy: 0.9425 - val_loss: 0.1942 - val_accuracy: 0.9413\n",
      "Epoch 3/10\n",
      "4358/4358 [==============================] - 310s 71ms/step - loss: 0.1283 - accuracy: 0.9480 - val_loss: 0.2067 - val_accuracy: 0.9498\n",
      "Epoch 4/10\n",
      "4358/4358 [==============================] - 311s 71ms/step - loss: 0.1173 - accuracy: 0.9528 - val_loss: 0.2256 - val_accuracy: 0.9476\n",
      "Epoch 5/10\n",
      "4358/4358 [==============================] - 313s 72ms/step - loss: 0.1093 - accuracy: 0.9559 - val_loss: 0.2206 - val_accuracy: 0.9415\n",
      "Epoch 6/10\n",
      "4358/4358 [==============================] - 311s 71ms/step - loss: 0.1026 - accuracy: 0.9586 - val_loss: 0.2508 - val_accuracy: 0.9552\n",
      "Epoch 7/10\n",
      "4358/4358 [==============================] - 310s 71ms/step - loss: 0.0977 - accuracy: 0.9606 - val_loss: 0.2634 - val_accuracy: 0.9590\n",
      "Epoch 8/10\n",
      "4358/4358 [==============================] - 311s 71ms/step - loss: 0.0935 - accuracy: 0.9625 - val_loss: 0.3188 - val_accuracy: 0.9541\n",
      "Epoch 9/10\n",
      "4358/4358 [==============================] - 309s 71ms/step - loss: 0.0916 - accuracy: 0.9637 - val_loss: 0.3014 - val_accuracy: 0.9605\n",
      "Epoch 10/10\n",
      "4358/4358 [==============================] - 310s 71ms/step - loss: 0.0885 - accuracy: 0.9646 - val_loss: 0.3233 - val_accuracy: 0.9585\n",
      "Test loss: 0.3232623867718602\n",
      "Test accuracy: 0.9584679007530212\n"
     ]
    }
   ],
   "source": [
    "model = Sequential()\n",
    "model.add(Conv2D(32, kernel_size=(3, 3),\n",
    "                 activation='relu',\n",
    "                 input_shape=input_shape))\n",
    "model.add(Conv2D(64, (3, 3), activation='relu'))\n",
    "model.add(MaxPooling2D(pool_size=(2, 2)))\n",
    "model.add(Dropout(0.25))\n",
    "model.add(Flatten())\n",
    "model.add(Dense(128, activation='relu'))\n",
    "model.add(Dropout(0.5))\n",
    "model.add(Dense(num_classes, activation='softmax'))\n",
    "\n",
    "model.compile(loss=keras.losses.categorical_crossentropy,\n",
    "              optimizer=keras.optimizers.Adadelta(),\n",
    "              metrics=['accuracy'])\n",
    "\n",
    "#model.fit(x_train, y_train,\n",
    "#          batch_size=batch_size,\n",
    "#          epochs=epochs,\n",
    "#          verbose=1,\n",
    "#          validation_data=(x_test, y_test))\n",
    "\n",
    "# construct the image generator for data augmentation\n",
    "aug = ImageDataGenerator(rotation_range=30, width_shift_range=0.1,\n",
    "        height_shift_range=0.1, shear_range=0.2, zoom_range=0.2,\n",
    "        #does not work: https://github.com/keras-team/keras/issues/10366\n",
    "        #brightness_range=(1.0,1.1),\n",
    "        horizontal_flip=True, fill_mode=\"constant\", cval=0)\n",
    "\n",
    "# train the network\n",
    "H = model.fit_generator(aug.flow(x_train, y_train, batch_size=batch_size),\n",
    "        validation_data=(x_test, y_test),\n",
    "        steps_per_epoch=len(x_train) // epochs,\n",
    "        epochs=epochs, verbose=1)\n",
    "\n",
    "score = model.evaluate(x_test, y_test, verbose=0)\n",
    "print('Test loss:', score[0])\n",
    "print('Test accuracy:', score[1])"
   ]
  },
  {
   "cell_type": "code",
   "execution_count": 26,
   "metadata": {},
   "outputs": [],
   "source": [
    "model.save('my_model.h5')"
   ]
  },
  {
   "cell_type": "code",
   "execution_count": 27,
   "metadata": {},
   "outputs": [
    {
     "data": {
      "text/plain": [
       "<matplotlib.legend.Legend at 0x2387d3c2b48>"
      ]
     },
     "execution_count": 27,
     "metadata": {},
     "output_type": "execute_result"
    },
    {
     "data": {
      "image/png": "[encoded data removed]",
      "text/plain": [
       "<Figure size 432x288 with 1 Axes>"
      ]
     },
     "metadata": {},
     "output_type": "display_data"
    }
   ],
   "source": [
    "# plot the training loss and accuracy\n",
    "plt.style.use(\"ggplot\")\n",
    "plt.figure()\n",
    "N = epochs\n",
    "plt.plot(np.arange(0, N), H.history[\"loss\"], label=\"train_loss\")\n",
    "plt.plot(np.arange(0, N), H.history[\"val_loss\"], label=\"val_loss\")\n",
    "plt.plot(np.arange(0, N), H.history[\"accuracy\"], label=\"train_acc\")\n",
    "plt.plot(np.arange(0, N), H.history[\"val_accuracy\"], label=\"val_acc\")\n",
    "plt.title(\"Training Loss and Accuracy\")\n",
    "plt.xlabel(\"Epoch #\")\n",
    "plt.ylabel(\"Loss/Accuracy\")\n",
    "plt.legend(loc=\"lower left\")"
   ]
  },
  {
   "cell_type": "code",
   "execution_count": null,
   "metadata": {},
   "outputs": [],
   "source": []
  }
 ],
 "metadata": {
  "kernelspec": {
   "display_name": "Python 3",
   "language": "python",
   "name": "python3"
  },
  "language_info": {
   "codemirror_mode": {
    "name": "ipython",
    "version": 3
   },
   "file_extension": ".py",
   "mimetype": "text/x-python",
   "name": "python",
   "nbconvert_exporter": "python",
   "pygments_lexer": "ipython3",
   "version": "3.7.6"
  }
 },
 "nbformat": 4,
 "nbformat_minor": 4
}
